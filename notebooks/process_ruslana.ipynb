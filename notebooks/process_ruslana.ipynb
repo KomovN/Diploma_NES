{
 "cells": [
  {
   "cell_type": "code",
   "execution_count": 1,
   "id": "02c663c9",
   "metadata": {},
   "outputs": [],
   "source": [
    "import os\n",
    "import pandas as pd\n",
    "\n",
    "data_dir = \"/Users/mac/Desktop/Study/Diploma/data\"\n",
    "ruslana_dir = os.path.join(data_dir, \"ruslana\")"
   ]
  },
  {
   "cell_type": "markdown",
   "id": "36edd0f6",
   "metadata": {},
   "source": [
    "Ruslana обрабатываю вручную, в связи со спецификой сырых данных. А именно мне не представляется возможным простая автоматизация из-за устройства папки. В целом, можно посмотреть в сторону автоматизации"
   ]
  },
  {
   "cell_type": "code",
   "execution_count": 2,
   "id": "3940d034",
   "metadata": {},
   "outputs": [
    {
     "data": {
      "text/plain": [
       "['RuslanaEmployment\"year2010\".csv',\n",
       " 'RuslanaEmployment\"yy2010\".csv',\n",
       " 'RuslanaEmployment\"year2011\".csv',\n",
       " 'RuslanaEmployment\"yy2011\".csv',\n",
       " 'RuslanaEmployment\"year2012\".csv',\n",
       " 'RuslanaEmployment\"yy2012\".csv',\n",
       " 'RuslanaEmployment\"year2013\".csv',\n",
       " 'RuslanaEmployment\"yy2013\".csv',\n",
       " 'RuslanaEmployment\"year2004\".csv',\n",
       " 'RuslanaEmployment\"year2014\".csv',\n",
       " 'RuslanaEmployment\"yy2014\".csv',\n",
       " 'RuslanaEmployment\"year2005\".csv',\n",
       " 'RuslanaEmployment\"2015\".csv',\n",
       " 'RuslanaEmployment\"year2015\".csv',\n",
       " 'RuslanaEmployment\"yy2015\".csv',\n",
       " 'RuslanaEmployment\"year2006\".csv',\n",
       " 'RuslanaEmployment\"y2016\".csv',\n",
       " 'RuslanaEmployment\"yy2016\".csv',\n",
       " 'RuslanaEmployment\"year2007\".csv',\n",
       " 'RuslanaEmployment\"yy2007\".csv',\n",
       " 'RuslanaEmployment\"year2008\".csv',\n",
       " 'RuslanaEmployment\"yy2008\".csv',\n",
       " 'RuslanaEmployment\"year2009\".csv',\n",
       " 'RuslanaEmployment\"yy2009\".csv']"
      ]
     },
     "execution_count": 2,
     "metadata": {},
     "output_type": "execute_result"
    }
   ],
   "source": [
    "sorted(os.listdir(os.path.join(ruslana_dir, \"RuslanaEmployment\")), key=lambda x: x[::-1])"
   ]
  },
  {
   "cell_type": "code",
   "execution_count": 3,
   "id": "9228625e",
   "metadata": {},
   "outputs": [],
   "source": [
    "COLS = [\"inn\", \"empl\", \"year\"]"
   ]
  },
  {
   "cell_type": "markdown",
   "id": "769e45f7",
   "metadata": {},
   "source": [
    "## 2005"
   ]
  },
  {
   "cell_type": "code",
   "execution_count": 4,
   "id": "b0a74dfe",
   "metadata": {},
   "outputs": [
    {
     "name": "stdout",
     "output_type": "stream",
     "text": [
      "393553\n"
     ]
    },
    {
     "data": {
      "text/html": [
       "<div>\n",
       "<style scoped>\n",
       "    .dataframe tbody tr th:only-of-type {\n",
       "        vertical-align: middle;\n",
       "    }\n",
       "\n",
       "    .dataframe tbody tr th {\n",
       "        vertical-align: top;\n",
       "    }\n",
       "\n",
       "    .dataframe thead th {\n",
       "        text-align: right;\n",
       "    }\n",
       "</style>\n",
       "<table border=\"1\" class=\"dataframe\">\n",
       "  <thead>\n",
       "    <tr style=\"text-align: right;\">\n",
       "      <th></th>\n",
       "      <th>name</th>\n",
       "      <th>inn</th>\n",
       "      <th>empl</th>\n",
       "      <th>year</th>\n",
       "    </tr>\n",
       "  </thead>\n",
       "  <tbody>\n",
       "    <tr>\n",
       "      <th>0</th>\n",
       "      <td>RASA</td>\n",
       "      <td>1.832033e+09</td>\n",
       "      <td>7</td>\n",
       "      <td>2005</td>\n",
       "    </tr>\n",
       "    <tr>\n",
       "      <th>1</th>\n",
       "      <td>Tavias</td>\n",
       "      <td>7.719041e+09</td>\n",
       "      <td>12</td>\n",
       "      <td>2005</td>\n",
       "    </tr>\n",
       "    <tr>\n",
       "      <th>2</th>\n",
       "      <td>SINTERS M</td>\n",
       "      <td>7.701245e+09</td>\n",
       "      <td>9</td>\n",
       "      <td>2005</td>\n",
       "    </tr>\n",
       "    <tr>\n",
       "      <th>3</th>\n",
       "      <td>EKSTRA PROM</td>\n",
       "      <td>7.702531e+09</td>\n",
       "      <td>8</td>\n",
       "      <td>2005</td>\n",
       "    </tr>\n",
       "    <tr>\n",
       "      <th>4</th>\n",
       "      <td>MODUL-ES</td>\n",
       "      <td>NaN</td>\n",
       "      <td>15</td>\n",
       "      <td>2005</td>\n",
       "    </tr>\n",
       "  </tbody>\n",
       "</table>\n",
       "</div>"
      ],
      "text/plain": [
       "          name           inn  empl  year\n",
       "0         RASA  1.832033e+09     7  2005\n",
       "1       Tavias  7.719041e+09    12  2005\n",
       "2    SINTERS M  7.701245e+09     9  2005\n",
       "3  EKSTRA PROM  7.702531e+09     8  2005\n",
       "4     MODUL-ES           NaN    15  2005"
      ]
     },
     "execution_count": 4,
     "metadata": {},
     "output_type": "execute_result"
    }
   ],
   "source": [
    "table_path = os.path.join(ruslana_dir, 'RuslanaEmployment/RuslanaEmployment\"year2005\".csv')\n",
    "\n",
    "df = pd.read_csv(table_path)\\\n",
    "        .drop(columns=[\"Unnamed: 0\"])\n",
    "\n",
    "df.columns = [\"name\", \"inn\", \"empl\", \"year\"]\n",
    "\n",
    "print(len(df))\n",
    "\n",
    "df.head()"
   ]
  },
  {
   "cell_type": "code",
   "execution_count": 5,
   "id": "74110056",
   "metadata": {},
   "outputs": [],
   "source": [
    "df.loc[:, COLS].dropna(subset=[\"inn\"])\\\n",
    "    .assign(inn=lambda x: x.inn.astype(int))\\\n",
    "    .to_csv(os.path.join(ruslana_dir, \"ruslana_processed/2005.csv\"), index=False)"
   ]
  },
  {
   "cell_type": "markdown",
   "id": "52779163",
   "metadata": {},
   "source": [
    "## 2006"
   ]
  },
  {
   "cell_type": "code",
   "execution_count": 6,
   "id": "4af793fb",
   "metadata": {},
   "outputs": [
    {
     "name": "stdout",
     "output_type": "stream",
     "text": [
      "582403\n"
     ]
    },
    {
     "data": {
      "text/html": [
       "<div>\n",
       "<style scoped>\n",
       "    .dataframe tbody tr th:only-of-type {\n",
       "        vertical-align: middle;\n",
       "    }\n",
       "\n",
       "    .dataframe tbody tr th {\n",
       "        vertical-align: top;\n",
       "    }\n",
       "\n",
       "    .dataframe thead th {\n",
       "        text-align: right;\n",
       "    }\n",
       "</style>\n",
       "<table border=\"1\" class=\"dataframe\">\n",
       "  <thead>\n",
       "    <tr style=\"text-align: right;\">\n",
       "      <th></th>\n",
       "      <th>name</th>\n",
       "      <th>inn</th>\n",
       "      <th>empl</th>\n",
       "      <th>year</th>\n",
       "    </tr>\n",
       "  </thead>\n",
       "  <tbody>\n",
       "    <tr>\n",
       "      <th>0</th>\n",
       "      <td>RLA</td>\n",
       "      <td>7.825706e+09</td>\n",
       "      <td>92</td>\n",
       "      <td>2006</td>\n",
       "    </tr>\n",
       "    <tr>\n",
       "      <th>1</th>\n",
       "      <td>PLASTEN</td>\n",
       "      <td>2.634066e+09</td>\n",
       "      <td>27</td>\n",
       "      <td>2006</td>\n",
       "    </tr>\n",
       "    <tr>\n",
       "      <th>2</th>\n",
       "      <td>Volga</td>\n",
       "      <td>3.703043e+09</td>\n",
       "      <td>15</td>\n",
       "      <td>2006</td>\n",
       "    </tr>\n",
       "    <tr>\n",
       "      <th>3</th>\n",
       "      <td>TITAN</td>\n",
       "      <td>5.260158e+09</td>\n",
       "      <td>2</td>\n",
       "      <td>2006</td>\n",
       "    </tr>\n",
       "    <tr>\n",
       "      <th>4</th>\n",
       "      <td>ARTEMIZIYA</td>\n",
       "      <td>7.709664e+09</td>\n",
       "      <td>2</td>\n",
       "      <td>2006</td>\n",
       "    </tr>\n",
       "  </tbody>\n",
       "</table>\n",
       "</div>"
      ],
      "text/plain": [
       "         name           inn  empl  year\n",
       "0         RLA  7.825706e+09    92  2006\n",
       "1     PLASTEN  2.634066e+09    27  2006\n",
       "2       Volga  3.703043e+09    15  2006\n",
       "3       TITAN  5.260158e+09     2  2006\n",
       "4  ARTEMIZIYA  7.709664e+09     2  2006"
      ]
     },
     "execution_count": 6,
     "metadata": {},
     "output_type": "execute_result"
    }
   ],
   "source": [
    "table_path = os.path.join(ruslana_dir, 'RuslanaEmployment/RuslanaEmployment\"year2006\".csv')\n",
    "\n",
    "df = pd.read_csv(table_path)\\\n",
    "        .drop(columns=[\"Unnamed: 0\"])\n",
    "\n",
    "df.columns = [\"name\", \"inn\", \"empl\", \"year\"]\n",
    "\n",
    "print(len(df))\n",
    "\n",
    "df.head()"
   ]
  },
  {
   "cell_type": "code",
   "execution_count": 7,
   "id": "d48aa0cf",
   "metadata": {},
   "outputs": [],
   "source": [
    "df.loc[:, COLS].dropna(subset=[\"inn\"])\\\n",
    "    .assign(inn=lambda x: x.inn.astype(int))\\\n",
    "    .to_csv(os.path.join(ruslana_dir, \"ruslana_processed/2006.csv\"), index=False)"
   ]
  },
  {
   "cell_type": "markdown",
   "id": "801ce859",
   "metadata": {},
   "source": [
    "## 2007"
   ]
  },
  {
   "cell_type": "code",
   "execution_count": 8,
   "id": "5a04d914",
   "metadata": {},
   "outputs": [
    {
     "name": "stdout",
     "output_type": "stream",
     "text": [
      "780603\n"
     ]
    },
    {
     "data": {
      "text/html": [
       "<div>\n",
       "<style scoped>\n",
       "    .dataframe tbody tr th:only-of-type {\n",
       "        vertical-align: middle;\n",
       "    }\n",
       "\n",
       "    .dataframe tbody tr th {\n",
       "        vertical-align: top;\n",
       "    }\n",
       "\n",
       "    .dataframe thead th {\n",
       "        text-align: right;\n",
       "    }\n",
       "</style>\n",
       "<table border=\"1\" class=\"dataframe\">\n",
       "  <thead>\n",
       "    <tr style=\"text-align: right;\">\n",
       "      <th></th>\n",
       "      <th>name</th>\n",
       "      <th>inn</th>\n",
       "      <th>empl</th>\n",
       "      <th>year</th>\n",
       "    </tr>\n",
       "  </thead>\n",
       "  <tbody>\n",
       "    <tr>\n",
       "      <th>0</th>\n",
       "      <td>NYUANS</td>\n",
       "      <td>7.727587e+09</td>\n",
       "      <td>6</td>\n",
       "      <td>2007</td>\n",
       "    </tr>\n",
       "    <tr>\n",
       "      <th>1</th>\n",
       "      <td>ARMIKS</td>\n",
       "      <td>5.404285e+09</td>\n",
       "      <td>3</td>\n",
       "      <td>2007</td>\n",
       "    </tr>\n",
       "    <tr>\n",
       "      <th>2</th>\n",
       "      <td>GARDMAN</td>\n",
       "      <td>7.116016e+09</td>\n",
       "      <td>17</td>\n",
       "      <td>2007</td>\n",
       "    </tr>\n",
       "    <tr>\n",
       "      <th>3</th>\n",
       "      <td>OREAL</td>\n",
       "      <td>7.704618e+09</td>\n",
       "      <td>2</td>\n",
       "      <td>2007</td>\n",
       "    </tr>\n",
       "    <tr>\n",
       "      <th>4</th>\n",
       "      <td>DINA-VIZION</td>\n",
       "      <td>7.709270e+09</td>\n",
       "      <td>230</td>\n",
       "      <td>2007</td>\n",
       "    </tr>\n",
       "  </tbody>\n",
       "</table>\n",
       "</div>"
      ],
      "text/plain": [
       "          name           inn  empl  year\n",
       "0       NYUANS  7.727587e+09     6  2007\n",
       "1       ARMIKS  5.404285e+09     3  2007\n",
       "2      GARDMAN  7.116016e+09    17  2007\n",
       "3        OREAL  7.704618e+09     2  2007\n",
       "4  DINA-VIZION  7.709270e+09   230  2007"
      ]
     },
     "execution_count": 8,
     "metadata": {},
     "output_type": "execute_result"
    }
   ],
   "source": [
    "tables = ['RuslanaEmployment\"year2007\".csv', 'RuslanaEmployment\"yy2007\".csv']\n",
    "\n",
    "df = []\n",
    "for table in tables:\n",
    "    item_df = pd.read_csv(os.path.join(ruslana_dir, \"RuslanaEmployment\", table))\\\n",
    "                .drop(columns=[\"Unnamed: 0\"])\n",
    "    \n",
    "    item_df.columns = [\"name\", \"inn\", \"empl\", \"year\"]\n",
    "    df.append(item_df)\n",
    "\n",
    "df = pd.concat(df)\n",
    "\n",
    "print(len(df))\n",
    "df.head()"
   ]
  },
  {
   "cell_type": "code",
   "execution_count": 9,
   "id": "e4a7ab76",
   "metadata": {},
   "outputs": [],
   "source": [
    "df.loc[:, COLS].dropna(subset=[\"inn\"])\\\n",
    "    .assign(inn=lambda x: x.inn.astype(int))\\\n",
    "    .to_csv(os.path.join(ruslana_dir, \"ruslana_processed/2007.csv\"), index=False)"
   ]
  },
  {
   "cell_type": "markdown",
   "id": "f60c6a96",
   "metadata": {},
   "source": [
    "## 2008"
   ]
  },
  {
   "cell_type": "code",
   "execution_count": 10,
   "id": "04030d8e",
   "metadata": {},
   "outputs": [
    {
     "name": "stdout",
     "output_type": "stream",
     "text": [
      "1108359\n"
     ]
    },
    {
     "data": {
      "text/html": [
       "<div>\n",
       "<style scoped>\n",
       "    .dataframe tbody tr th:only-of-type {\n",
       "        vertical-align: middle;\n",
       "    }\n",
       "\n",
       "    .dataframe tbody tr th {\n",
       "        vertical-align: top;\n",
       "    }\n",
       "\n",
       "    .dataframe thead th {\n",
       "        text-align: right;\n",
       "    }\n",
       "</style>\n",
       "<table border=\"1\" class=\"dataframe\">\n",
       "  <thead>\n",
       "    <tr style=\"text-align: right;\">\n",
       "      <th></th>\n",
       "      <th>name</th>\n",
       "      <th>inn</th>\n",
       "      <th>empl</th>\n",
       "      <th>year</th>\n",
       "    </tr>\n",
       "  </thead>\n",
       "  <tbody>\n",
       "    <tr>\n",
       "      <th>0</th>\n",
       "      <td>Region</td>\n",
       "      <td>5.904129e+09</td>\n",
       "      <td>11</td>\n",
       "      <td>2008</td>\n",
       "    </tr>\n",
       "    <tr>\n",
       "      <th>1</th>\n",
       "      <td>VEGA YUG</td>\n",
       "      <td>2.635119e+09</td>\n",
       "      <td>8</td>\n",
       "      <td>2008</td>\n",
       "    </tr>\n",
       "    <tr>\n",
       "      <th>2</th>\n",
       "      <td>EMOUSHN</td>\n",
       "      <td>7.727613e+09</td>\n",
       "      <td>10</td>\n",
       "      <td>2008</td>\n",
       "    </tr>\n",
       "    <tr>\n",
       "      <th>3</th>\n",
       "      <td>GPSK LAND</td>\n",
       "      <td>7.704131e+09</td>\n",
       "      <td>6</td>\n",
       "      <td>2008</td>\n",
       "    </tr>\n",
       "    <tr>\n",
       "      <th>4</th>\n",
       "      <td>KRAF</td>\n",
       "      <td>3.803201e+09</td>\n",
       "      <td>11</td>\n",
       "      <td>2008</td>\n",
       "    </tr>\n",
       "  </tbody>\n",
       "</table>\n",
       "</div>"
      ],
      "text/plain": [
       "        name           inn  empl  year\n",
       "0     Region  5.904129e+09    11  2008\n",
       "1   VEGA YUG  2.635119e+09     8  2008\n",
       "2    EMOUSHN  7.727613e+09    10  2008\n",
       "3  GPSK LAND  7.704131e+09     6  2008\n",
       "4       KRAF  3.803201e+09    11  2008"
      ]
     },
     "execution_count": 10,
     "metadata": {},
     "output_type": "execute_result"
    }
   ],
   "source": [
    "tables = ['RuslanaEmployment\"year2008\".csv', 'RuslanaEmployment\"yy2008\".csv']\n",
    "\n",
    "df = []\n",
    "for table in tables:\n",
    "    item_df = pd.read_csv(os.path.join(ruslana_dir, \"RuslanaEmployment\", table))\\\n",
    "                .drop(columns=[\"Unnamed: 0\"])\n",
    "    \n",
    "    item_df.columns = [\"name\", \"inn\", \"empl\", \"year\"]\n",
    "    df.append(item_df)\n",
    "\n",
    "df = pd.concat(df)\n",
    "\n",
    "print(len(df))\n",
    "df.head()"
   ]
  },
  {
   "cell_type": "code",
   "execution_count": 11,
   "id": "b97344f4",
   "metadata": {},
   "outputs": [],
   "source": [
    "df.loc[:, COLS].dropna(subset=[\"inn\"])\\\n",
    "    .assign(inn=lambda x: x.inn.astype(int))\\\n",
    "    .to_csv(os.path.join(ruslana_dir, \"ruslana_processed/2008.csv\"), index=False)"
   ]
  },
  {
   "cell_type": "markdown",
   "id": "5a0a2913",
   "metadata": {},
   "source": [
    "## 2009"
   ]
  },
  {
   "cell_type": "code",
   "execution_count": 12,
   "id": "b1313f7d",
   "metadata": {},
   "outputs": [
    {
     "name": "stdout",
     "output_type": "stream",
     "text": [
      "1083391\n"
     ]
    },
    {
     "data": {
      "text/html": [
       "<div>\n",
       "<style scoped>\n",
       "    .dataframe tbody tr th:only-of-type {\n",
       "        vertical-align: middle;\n",
       "    }\n",
       "\n",
       "    .dataframe tbody tr th {\n",
       "        vertical-align: top;\n",
       "    }\n",
       "\n",
       "    .dataframe thead th {\n",
       "        text-align: right;\n",
       "    }\n",
       "</style>\n",
       "<table border=\"1\" class=\"dataframe\">\n",
       "  <thead>\n",
       "    <tr style=\"text-align: right;\">\n",
       "      <th></th>\n",
       "      <th>name</th>\n",
       "      <th>inn</th>\n",
       "      <th>empl</th>\n",
       "      <th>year</th>\n",
       "    </tr>\n",
       "  </thead>\n",
       "  <tbody>\n",
       "    <tr>\n",
       "      <th>0</th>\n",
       "      <td>PROMSTROIMONTAZH</td>\n",
       "      <td>3.666150e+09</td>\n",
       "      <td>18</td>\n",
       "      <td>2009</td>\n",
       "    </tr>\n",
       "    <tr>\n",
       "      <th>1</th>\n",
       "      <td>MONTAZHTEKHINVEST</td>\n",
       "      <td>5.258034e+09</td>\n",
       "      <td>19</td>\n",
       "      <td>2009</td>\n",
       "    </tr>\n",
       "    <tr>\n",
       "      <th>2</th>\n",
       "      <td>PROTEKH</td>\n",
       "      <td>7.802450e+09</td>\n",
       "      <td>9</td>\n",
       "      <td>2009</td>\n",
       "    </tr>\n",
       "    <tr>\n",
       "      <th>3</th>\n",
       "      <td>2K</td>\n",
       "      <td>7.734128e+09</td>\n",
       "      <td>4</td>\n",
       "      <td>2009</td>\n",
       "    </tr>\n",
       "    <tr>\n",
       "      <th>4</th>\n",
       "      <td>BSV</td>\n",
       "      <td>5.835076e+09</td>\n",
       "      <td>10</td>\n",
       "      <td>2009</td>\n",
       "    </tr>\n",
       "  </tbody>\n",
       "</table>\n",
       "</div>"
      ],
      "text/plain": [
       "                name           inn  empl  year\n",
       "0   PROMSTROIMONTAZH  3.666150e+09    18  2009\n",
       "1  MONTAZHTEKHINVEST  5.258034e+09    19  2009\n",
       "2            PROTEKH  7.802450e+09     9  2009\n",
       "3                 2K  7.734128e+09     4  2009\n",
       "4                BSV  5.835076e+09    10  2009"
      ]
     },
     "execution_count": 12,
     "metadata": {},
     "output_type": "execute_result"
    }
   ],
   "source": [
    "tables = ['RuslanaEmployment\"year2009\".csv', 'RuslanaEmployment\"yy2009\".csv']\n",
    "\n",
    "df = []\n",
    "for table in tables:\n",
    "    item_df = pd.read_csv(os.path.join(ruslana_dir, \"RuslanaEmployment\", table))\\\n",
    "                .drop(columns=[\"Unnamed: 0\"])\n",
    "    \n",
    "    item_df.columns = [\"name\", \"inn\", \"empl\", \"year\"]\n",
    "    df.append(item_df)\n",
    "\n",
    "df = pd.concat(df)\n",
    "\n",
    "print(len(df))\n",
    "df.head()"
   ]
  },
  {
   "cell_type": "code",
   "execution_count": 13,
   "id": "8ea02e84",
   "metadata": {},
   "outputs": [],
   "source": [
    "df.loc[:, COLS].dropna(subset=[\"inn\"])\\\n",
    "    .assign(inn=lambda x: x.inn.astype(int))\\\n",
    "    .to_csv(os.path.join(ruslana_dir, \"ruslana_processed/2009.csv\"), index=False)"
   ]
  },
  {
   "cell_type": "markdown",
   "id": "cb07fd3d",
   "metadata": {},
   "source": [
    "# Join Together"
   ]
  },
  {
   "cell_type": "code",
   "execution_count": 15,
   "id": "f4ec6d37",
   "metadata": {},
   "outputs": [
    {
     "name": "stdout",
     "output_type": "stream",
     "text": [
      "3946725\n"
     ]
    },
    {
     "data": {
      "text/html": [
       "<div>\n",
       "<style scoped>\n",
       "    .dataframe tbody tr th:only-of-type {\n",
       "        vertical-align: middle;\n",
       "    }\n",
       "\n",
       "    .dataframe tbody tr th {\n",
       "        vertical-align: top;\n",
       "    }\n",
       "\n",
       "    .dataframe thead th {\n",
       "        text-align: right;\n",
       "    }\n",
       "</style>\n",
       "<table border=\"1\" class=\"dataframe\">\n",
       "  <thead>\n",
       "    <tr style=\"text-align: right;\">\n",
       "      <th></th>\n",
       "      <th>inn</th>\n",
       "      <th>empl</th>\n",
       "      <th>year</th>\n",
       "    </tr>\n",
       "  </thead>\n",
       "  <tbody>\n",
       "    <tr>\n",
       "      <th>0</th>\n",
       "      <td>1832032736</td>\n",
       "      <td>7</td>\n",
       "      <td>2005</td>\n",
       "    </tr>\n",
       "    <tr>\n",
       "      <th>1</th>\n",
       "      <td>7719041400</td>\n",
       "      <td>12</td>\n",
       "      <td>2005</td>\n",
       "    </tr>\n",
       "    <tr>\n",
       "      <th>2</th>\n",
       "      <td>7701244696</td>\n",
       "      <td>9</td>\n",
       "      <td>2005</td>\n",
       "    </tr>\n",
       "    <tr>\n",
       "      <th>3</th>\n",
       "      <td>7702530940</td>\n",
       "      <td>8</td>\n",
       "      <td>2005</td>\n",
       "    </tr>\n",
       "    <tr>\n",
       "      <th>4</th>\n",
       "      <td>5914013354</td>\n",
       "      <td>31</td>\n",
       "      <td>2005</td>\n",
       "    </tr>\n",
       "  </tbody>\n",
       "</table>\n",
       "</div>"
      ],
      "text/plain": [
       "          inn  empl  year\n",
       "0  1832032736     7  2005\n",
       "1  7719041400    12  2005\n",
       "2  7701244696     9  2005\n",
       "3  7702530940     8  2005\n",
       "4  5914013354    31  2005"
      ]
     },
     "execution_count": 15,
     "metadata": {},
     "output_type": "execute_result"
    }
   ],
   "source": [
    "years = [2005, 2006, 2007, 2008, 2009]\n",
    "tables = [os.path.join(ruslana_dir, \"ruslana_processed/{}.csv\".format(year)) for year in years]\n",
    "\n",
    "df = []\n",
    "for table in tables:\n",
    "    df.append(pd.read_csv(table))\n",
    "\n",
    "df = pd.concat(df)\n",
    "\n",
    "print(len(df))\n",
    "\n",
    "df.head()"
   ]
  },
  {
   "cell_type": "code",
   "execution_count": 16,
   "id": "2145707d",
   "metadata": {},
   "outputs": [],
   "source": [
    "df.to_parquet(os.path.join(ruslana_dir, \"ruslana.parquet\"))"
   ]
  }
 ],
 "metadata": {
  "kernelspec": {
   "display_name": "test_env",
   "language": "python",
   "name": "python3"
  },
  "language_info": {
   "codemirror_mode": {
    "name": "ipython",
    "version": 3
   },
   "file_extension": ".py",
   "mimetype": "text/x-python",
   "name": "python",
   "nbconvert_exporter": "python",
   "pygments_lexer": "ipython3",
   "version": "3.12.2"
  }
 },
 "nbformat": 4,
 "nbformat_minor": 5
}
